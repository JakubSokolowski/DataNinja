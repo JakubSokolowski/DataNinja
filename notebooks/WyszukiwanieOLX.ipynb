{
 "cells": [
  {
   "cell_type": "markdown",
   "metadata": {
    "collapsed": true
   },
   "source": [
    "# Badanie algorytmu wyszukującego OLX\n",
    "## Prawdopodobny mechanizm działania:\n",
    "* Wyszukiwanie odbywa się wyłącznie na podstawie tytułów produktu\n",
    "* Wielkośc liter nie jest brana pod uwagę\n",
    "* Znajduje dokładne zapytanie np. \"sukienka\". Zawsze pierwsze wyświetla dokładne trafienia\n",
    "* Po znalezieniu dokładnych, zaczyna rozszerzać zapytanie, np. wyszukanie \"sukie\" da rezultaty dla \"sukie\", a także da rezultaty dla \"sukieki\". Warto zauważyć, że nie znajduje już \"sukienki\" - dodaje rozszerzenia które tworzą też nazwy z błędem - dlaczego ?\n",
    "* Jeśli po zapytaniu dodamy znak specjalny, to pomija ten znak np. \"sukienki((((\" dają te same rezultaty co \"sukienki\"\n",
    "* Jeśli znak specjalny wstawimy w środku zapytania np. \"sukie(nki\" to litera która znajduje się po znaku będzie traktowana jako wielka litera! i pomimo tego że normaalnie wielkość liter nie ma znaczenia, w tym przypadku wyświetlą się rezlutaty takie jak \"SukieNKa\" a nie \"sukienka\"\n",
    "\n",
    "## Prezentowanie rezultatów:\n",
    "* 39 wyników na stronie\n",
    "* Mechanizm odświeżania:\n",
    "\n",
    "<cite>Domyślnie ogłoszenia w OLX są sortowane według daty dodania. Oznacza to, że Twoje ogłoszenie z czasem spada na kolejne pozycje na liście, ponieważ inni użytkownicy dodają nowe ogłoszenia. Dzięki odświeżeniu, ogłoszenie pojawia się ponownie na górze listy - zupełnie tak jakby zostało dodane przed chwilą!</cite>\n",
    "\n",
    "* Ogłoszenia wyróżnione pojawiają się różnie:\n",
    "\n",
    "<cite>W przeciwieństwie do odświeżenia, które umieszcza ogłoszenie na górze listy jednorazowo, ogłoszenie wyróżnione będzie na górze wiele dni (3 dni w przypadku pakietu Mini, 7 dni pakiet Midi i 30 dni w przypadku pakietu Maxi). W aplikacji mobilnej sekcja ogłoszeń wyróżnionych jest wyświetlana na przemian ze zwykłymi ogłoszeniami.\n",
    "W sekcji ogłoszeń wyróżnionych ogłoszenia rotują. Oznacza to, że nie zawsze Twoje ogłoszenie będzie widoczne w sekcji, ale nie przejmuj się, ogłoszenie jest tam pokazywane i na pewno zdobędziesz zainteresowanie swoją ofertą.</cite>"
   ]
  },
  {
   "cell_type": "markdown",
   "metadata": {},
   "source": [
    "# "
   ]
  },
  {
   "cell_type": "code",
   "execution_count": null,
   "metadata": {},
   "outputs": [],
   "source": []
  }
 ],
 "metadata": {
  "kernelspec": {
   "display_name": "Python 3",
   "language": "python",
   "name": "python3"
  },
  "language_info": {
   "codemirror_mode": {
    "name": "ipython",
    "version": 3
   },
   "file_extension": ".py",
   "mimetype": "text/x-python",
   "name": "python",
   "nbconvert_exporter": "python",
   "pygments_lexer": "ipython3",
   "version": "3.6.3"
  }
 },
 "nbformat": 4,
 "nbformat_minor": 1
}
