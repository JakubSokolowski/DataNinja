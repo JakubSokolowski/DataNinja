{
 "cells": [
  {
   "cell_type": "code",
   "execution_count": 2,
   "metadata": {},
   "outputs": [
    {
     "data": {
      "text/plain": [
       "{'ETag': '\"9186ae284828b11d3fe84270222fd520\"',\n",
       " 'ResponseMetadata': {'HTTPHeaders': {'content-length': '0',\n",
       "   'date': 'Sun, 25 Feb 2018 16:16:54 GMT',\n",
       "   'etag': '\"9186ae284828b11d3fe84270222fd520\"',\n",
       "   'server': 'AmazonS3',\n",
       "   'x-amz-id-2': 'zpHRGKRMcozeKsSGVmCFyrQ/WdLqauPEeGZieyBoJW0+smola8Y0MlFpWM6JmYQi3aCf6RiMz0s=',\n",
       "   'x-amz-request-id': '51A29DB415A083C2'},\n",
       "  'HTTPStatusCode': 200,\n",
       "  'HostId': 'zpHRGKRMcozeKsSGVmCFyrQ/WdLqauPEeGZieyBoJW0+smola8Y0MlFpWM6JmYQi3aCf6RiMz0s=',\n",
       "  'RequestId': '51A29DB415A083C2',\n",
       "  'RetryAttempts': 0}}"
      ]
     },
     "execution_count": 2,
     "metadata": {},
     "output_type": "execute_result"
    }
   ],
   "source": [
    "import pandas as pd\n",
    "import io\n",
    "import boto3\n",
    "import io\n",
    "s3 = boto3.client('s3')\n",
    "\n",
    "# Machine-Learing service needs csv separated by ','\n",
    "\n",
    "data = pd.read_csv('train_data.csv',sep=';',dtype='unicode')\n",
    "data.columns.values\n",
    "data = data.drop(['id.1','predict_sold','predict_views'],1)\n",
    "data = data[data.price_type != 'exchange']\n",
    "data = data.fillna(0)\n",
    "filename = '2016-11-not-encoded-predict_replies.csv'\n",
    "data.to_csv(filename,index=False,sep=',')\n",
    "# Write to bucket\n",
    "file = open(filename, 'rb')\n",
    "s3.put_object(Bucket='2016-11', Key=filename, Body=file)"
   ]
  },
  {
   "cell_type": "code",
   "execution_count": 13,
   "metadata": {},
   "outputs": [
    {
     "data": {
      "text/plain": [
       "(987849, 18)"
      ]
     },
     "execution_count": 13,
     "metadata": {},
     "output_type": "execute_result"
    }
   ],
   "source": [
    "data.shape"
   ]
  },
  {
   "cell_type": "code",
   "execution_count": null,
   "metadata": {
    "collapsed": true
   },
   "outputs": [],
   "source": [
    "data.lo"
   ]
  }
 ],
 "metadata": {
  "kernelspec": {
   "display_name": "conda_python3",
   "language": "python",
   "name": "conda_python3"
  },
  "language_info": {
   "codemirror_mode": {
    "name": "ipython",
    "version": 3
   },
   "file_extension": ".py",
   "mimetype": "text/x-python",
   "name": "python",
   "nbconvert_exporter": "python",
   "pygments_lexer": "ipython3",
   "version": "3.6.2"
  }
 },
 "nbformat": 4,
 "nbformat_minor": 2
}
