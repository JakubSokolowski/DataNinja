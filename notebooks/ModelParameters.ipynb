{
 "cells": [
  {
   "cell_type": "markdown",
   "metadata": {},
   "source": [
    "# Alredy Existing Parameters\n",
    "\n",
    "## Location Parameters\n",
    "Drop some of the region params?\n",
    "1. region_id\n",
    "2. category_id\n",
    "3. subregion_id\n",
    "4. district_id\n",
    "5. city_id\n",
    "\n",
    "## User and ad Parameters\n",
    "1. user_id\n",
    "2. has_phone\n",
    "3. is_paid_ad\n",
    "4. has_person?\n",
    "\n",
    "## Product Parameters\n",
    "From params column:\n",
    "1. price\n",
    "2. state\n",
    "3. size\n",
    "4. type\n",
    "\n",
    "\n",
    "# Additional Parameters\n",
    "\n",
    "## Time Parameters\n",
    "\n",
    "1. time_since_creation\n",
    "    * the difference between created_at_first date and sorting_date in days (hours?)\n",
    "3. paid_ad_time_left\n",
    "4. time_on_frontpage\n",
    "    * how long the ad stayed on frontpage\n",
    "5. on_frontpage_during_peak\n",
    "    * whether the ad was refreshed during the most popular viewing hours (16-22)?\n",
    "\n",
    "## Product Parameters\n",
    "5. relative_price\n",
    "    * price compared to other similiar product \n",
    "5. has_good_photos\n",
    "6. total_searches\n",
    "    * total number of hits from search queries that match the product (during the time it was up - to be added)\n",
    "    \n",
    " "
   ]
  },
  {
   "cell_type": "code",
   "execution_count": null,
   "metadata": {},
   "outputs": [],
   "source": []
  },
  {
   "cell_type": "code",
   "execution_count": null,
   "metadata": {},
   "outputs": [],
   "source": []
  }
 ],
 "metadata": {
  "kernelspec": {
   "display_name": "Python 3",
   "language": "python",
   "name": "python3"
  },
  "language_info": {
   "codemirror_mode": {
    "name": "ipython",
    "version": 3
   },
   "file_extension": ".py",
   "mimetype": "text/x-python",
   "name": "python",
   "nbconvert_exporter": "python",
   "pygments_lexer": "ipython3",
   "version": "3.6.3"
  }
 },
 "nbformat": 4,
 "nbformat_minor": 2
}
