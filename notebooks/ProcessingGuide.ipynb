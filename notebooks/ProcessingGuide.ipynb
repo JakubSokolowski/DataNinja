{
 "cells": [
  {
   "cell_type": "markdown",
   "metadata": {},
   "source": [
    "\n",
    "# For each month month:\n",
    "\n",
    "## Global Data Sources\n",
    "\n",
    "dict city_id -> num of ads\n",
    "dict user_id -> num of ads\n",
    "\n",
    "## 1. Raw Data\n",
    "    In->Raw Data Out->DataFrame with data\n",
    "    Parse to df\n",
    "    \n",
    "    parse_to_df(fileaname):\n",
    "        return df\n",
    "        \n",
    "## 2. Drop not needed\n",
    "    In->DataFrame with data Out->stripped DataFrame without unnecessary Colums\n",
    "## 3. Process Data\n",
    "    Monthly variables:\n",
    "    In->Stripped down df from month, dict with queries from month\n",
    "    \n",
    "    functions:\n",
    "        \n",
    "        def process_data(df, sq):\n",
    "            return processed_df\n",
    "            \n",
    "    \n",
    "        assign_params(df):\n",
    "            create - ['price_type','price','state','type']\n",
    "            drop - ['params']\n",
    "            return df\n",
    "            \n",
    "        assign_num_of_photos(df):\n",
    "            create - ['num_of_photos']\n",
    "            drop - ['photo_sizes']\n",
    "            return df\n",
    "            \n",
    "        assign_time_since_creations(df):\n",
    "            create - ['time_since_creation']\n",
    "            drop - ['created_at_first']\n",
    "            return df\n",
    "            \n",
    "        assign_traffic_level(df):\n",
    "            create - ['traffic_level']\n",
    "            drop - ['sorting_date']\n",
    "            return df\n",
    "            \n",
    "        assign_promo_level(df):\n",
    "            create - ['promo_level']\n",
    "            drop - ['paidads_id_index']\n",
    "            return df\n",
    "        \n",
    "        assign_query_hits(df,sq):\n",
    "            create - ['phrase_hits','browsing_hits']\n",
    "            drop - ['title']\n",
    "            return df\n",
    "        \n",
    "        Concat all the created columns\n",
    "      \n",
    "### Concat al the months data\n",
    "    \n",
    "    assign_city_ads(df):\n",
    "    assign_user_ads(df);\n",
    "\n",
    "## 4. Processing for all the needed columns\n",
    "    \n",
    "## 5. \n"
   ]
  },
  {
   "cell_type": "code",
   "execution_count": null,
   "metadata": {
    "collapsed": true
   },
   "outputs": [],
   "source": []
  }
 ],
 "metadata": {
  "kernelspec": {
   "display_name": "conda_python3",
   "language": "python",
   "name": "conda_python3"
  },
  "language_info": {
   "codemirror_mode": {
    "name": "ipython",
    "version": 3
   },
   "file_extension": ".py",
   "mimetype": "text/x-python",
   "name": "python",
   "nbconvert_exporter": "python",
   "pygments_lexer": "ipython3",
   "version": "3.6.2"
  }
 },
 "nbformat": 4,
 "nbformat_minor": 2
}
