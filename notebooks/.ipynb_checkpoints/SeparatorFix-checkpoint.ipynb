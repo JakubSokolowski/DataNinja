{
 "cells": [
  {
   "cell_type": "code",
   "execution_count": 14,
   "metadata": {},
   "outputs": [
    {
     "data": {
      "text/plain": [
       "{'ETag': '\"50e85c7be20253a7c3a96fd08230a672\"',\n",
       " 'ResponseMetadata': {'HTTPHeaders': {'content-length': '0',\n",
       "   'date': 'Sun, 25 Feb 2018 13:03:33 GMT',\n",
       "   'etag': '\"50e85c7be20253a7c3a96fd08230a672\"',\n",
       "   'server': 'AmazonS3',\n",
       "   'x-amz-id-2': '9yW15BNvfV07ou7WMMNQSqljyeyIVs/UAZjUL0s6PU5BKnGxD55qWatnIVxcNlo8LZmq/4DchHo=',\n",
       "   'x-amz-request-id': '0D9E383A7E7C1F67'},\n",
       "  'HTTPStatusCode': 200,\n",
       "  'HostId': '9yW15BNvfV07ou7WMMNQSqljyeyIVs/UAZjUL0s6PU5BKnGxD55qWatnIVxcNlo8LZmq/4DchHo=',\n",
       "  'RequestId': '0D9E383A7E7C1F67',\n",
       "  'RetryAttempts': 0}}"
      ]
     },
     "execution_count": 14,
     "metadata": {},
     "output_type": "execute_result"
    }
   ],
   "source": [
    "import pandas as pd\n",
    "import io\n",
    "import boto3\n",
    "import io\n",
    "s3 = boto3.client('s3')\n",
    "\n",
    "# Machine-Learing service needs csv separated by ','\n",
    "\n",
    "data = pd.read_csv('train_data.csv',sep=';',dtype='unicode')\n",
    "data.columns.values\n",
    "data = data.drop(['id.1','predict_replies','predict_sold'],1)\n",
    "data = data[data.price_type != 'exchange']\n",
    "data = data.fillna(0)\n",
    "filename = '2016-11-not-encoded-predict_views.csv'\n",
    "data.to_csv(filename,index=False,sep=',')\n",
    "# Write to bucket\n",
    "file = open(filename, 'rb')\n",
    "s3.put_object(Bucket='2016-11', Key=filename, Body=file)"
   ]
  },
  {
   "cell_type": "code",
   "execution_count": 13,
   "metadata": {},
   "outputs": [
    {
     "data": {
      "text/plain": [
       "(987849, 18)"
      ]
     },
     "execution_count": 13,
     "metadata": {},
     "output_type": "execute_result"
    }
   ],
   "source": [
    "data.shape"
   ]
  },
  {
   "cell_type": "code",
   "execution_count": 15,
   "metadata": {},
   "outputs": [
    {
     "data": {
      "text/plain": [
       "{'ETag': '\"50e85c7be20253a7c3a96fd08230a672\"',\n",
       " 'ResponseMetadata': {'HTTPHeaders': {'content-length': '0',\n",
       "   'date': 'Sun, 25 Feb 2018 14:09:34 GMT',\n",
       "   'etag': '\"50e85c7be20253a7c3a96fd08230a672\"',\n",
       "   'server': 'AmazonS3',\n",
       "   'x-amz-id-2': 'PV3gci1twVZkxPc1uVoEJI2GP6ZgsHIzC26xil3ykWERZedYGrDd40lZXk3saJOuvK1fQe3L47s=',\n",
       "   'x-amz-request-id': '141C4A9B730E46D9'},\n",
       "  'HTTPStatusCode': 200,\n",
       "  'HostId': 'PV3gci1twVZkxPc1uVoEJI2GP6ZgsHIzC26xil3ykWERZedYGrDd40lZXk3saJOuvK1fQe3L47s=',\n",
       "  'RequestId': '141C4A9B730E46D9',\n",
       "  'RetryAttempts': 0}}"
      ]
     },
     "execution_count": 15,
     "metadata": {},
     "output_type": "execute_result"
    }
   ],
   "source": [
    "import pandas as pd\n",
    "import io\n",
    "import boto3\n",
    "import io\n",
    "s3 = boto3.client('s3')\n",
    "\n",
    "# Machine-Learing service needs csv separated by ','\n",
    "\n",
    "data = pd.read_csv('train_data.csv',sep=';',dtype='unicode')\n",
    "data.columns.values\n",
    "data = data.drop(['id.1','predict_replies','predict_sold'],1)\n",
    "data = data[data.price_type != 'exchange']\n",
    "data = data.fillna(0)\n",
    "filename = 'test.csv'\n",
    "data.to_csv(filename,index=False,sep=',')\n",
    "# Write to bucket\n",
    "file = open(filename, 'rb')\n",
    "s3.put_object(Bucket='2016-11', Key=filename, Body=file)"
   ]
  },
  {
   "cell_type": "code",
   "execution_count": null,
   "metadata": {
    "collapsed": true
   },
   "outputs": [],
   "source": []
  }
 ],
 "metadata": {
  "kernelspec": {
   "display_name": "conda_python3",
   "language": "python",
   "name": "conda_python3"
  },
  "language_info": {
   "codemirror_mode": {
    "name": "ipython",
    "version": 3
   },
   "file_extension": ".py",
   "mimetype": "text/x-python",
   "name": "python",
   "nbconvert_exporter": "python",
   "pygments_lexer": "ipython3",
   "version": "3.6.2"
  }
 },
 "nbformat": 4,
 "nbformat_minor": 2
}
